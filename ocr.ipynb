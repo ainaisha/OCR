{
 "cells": [
  {
   "cell_type": "markdown",
   "metadata": {},
   "source": [
    "# **<span style=\"color:Purple;\">Optical Character Recognition: Google Cloud Vision API</span>**\n",
    "Tesseract OCR and Google Vision API are two options.\n",
    "\n",
    "\n",
    "**<span style=\"color:green;\">Tesseract OCR:</span>**\n",
    "Tesseract is a free, open-source OCR tool. It can be customized and can train it to recognize specific handwriting styles, which can improve accuracy. It requires a lot of preprocessing and setup to achieve high accuracy with handwritten text, making it complex and time-consuming.\n",
    "\n",
    "**<span style=\"color:green;\">Google Vision API:</span>**\n",
    "Google Vision API is a cloud-based service known for its high accuracy, especially with handwritten text. It is easy to use and requires minimal setup. Also it offers other image analysis features and can handle large volumes of requests. It also costs money and needs an internet connection, which could be an issue if the service is down or the connection is unstable.\n",
    "\n",
    "🏅 **<span style=\"color:green;\">Choosing Google Vision API:</span>**\n",
    "For extracting handwritten details like aircraft journey summaries, Google Vision API is the better choice. Its high accuracy, ease of use, and advanced features justify the cost, making it ideal for projects that need precision and efficiency."
   ]
  },
  {
   "cell_type": "markdown",
   "metadata": {},
   "source": [
    "## **<span style=\"color:purple;\">Technical Stack</span>**\n",
    "\n",
    "**<span style=\"color:green;\">Google Cloud Vision API:</span>** For high-accuracy OCR text extraction\n",
    "\n",
    "**<span style=\"color:green;\">Python:</span>** For backend service development due to its extensive libraries and frameworks\n",
    "\n",
    "**<span style=\"color:green;\">PostgreSQL:</span>** For robust, scalable, and reliable data storage\n",
    "\n",
    "**<span style=\"color:green;\">SQLAlchemy:</span>** SQLAlchemy simplifies database interactions by abstracting raw SQL queries into Python objects and methods, making database operations more intuitive and maintainable. Can switch between different database systems (like PostgreSQL, MySQL, SQLite) with minimal changes to your codebaseIts Object-Relational Mapping (ORM) capabilities map database tables to Python classes, allowing you to perform CRUD(Create, Read,Update, Delete) operations in a more Pythonic way. This approach enhances readability, ensures consistency in managing schema changes, and reduces the need for repetitive SQL code, enabling you to focus on higher-level application logic."
   ]
  },
  {
   "cell_type": "code",
   "execution_count": 2,
   "metadata": {},
   "outputs": [],
   "source": [
    "import os\n",
    "import io\n",
    "import psycopg2\n",
    "from PIL import Image, ImageOps, ImageFilter\n",
    "from google.cloud import vision\n",
    "\n",
    "from sqlalchemy import create_engine, Column, Integer, String\n",
    "from sqlalchemy.ext.declarative import declarative_base\n",
    "from sqlalchemy.orm import sessionmaker, relationship"
   ]
  },
  {
   "cell_type": "code",
   "execution_count": null,
   "metadata": {},
   "outputs": [],
   "source": [
    "# Obtain the Google Cloud Vision API from Google Cloud Platform \n",
    "\"\"\" Login into GCP Account > APIs & Services > Library > Cloud Vision API > Manage > + Create Credentials > Service Account > \"\"\"\n",
    "\"\"\" > Fill info into Service Account Name & Service Account Description > Select a Role: As \"Owner\" > Done \"\"\"\n",
    "\"\"\" > Create a key > JSON > Download the key file > Save it to the same directory \"\"\"\n",
    "\n",
    "# Set up Google Cloud Vision API\n",
    "os.environ['GOOGLE_APPLICATION_CREDENTIALS'] = 'vision_key_api.json'"
   ]
  },
  {
   "cell_type": "markdown",
   "metadata": {},
   "source": [
    "### **<span style=\"color:purple;\">Data Acquisition</span>**\n",
    "The first step involves capturing the data from the \"aircraft journey summary\" form. Engineers will take a photo of the form using the user-facing app. This photo will be sent to the backend service as an image file for processing."
   ]
  },
  {
   "cell_type": "code",
   "execution_count": null,
   "metadata": {},
   "outputs": [],
   "source": [
    "# Directory where the images will be saved\n",
    "UPLOAD_FOLDER = 'uploads/'\n",
    "os.makedirs(UPLOAD_FOLDER, exist_ok=True)"
   ]
  },
  {
   "cell_type": "markdown",
   "metadata": {},
   "source": [
    "### **<span style=\"color:purple;\">Preprocessing the Image</span>**\n",
    "a. Converting to grayscale reduce images to black and white simplifying the image, reducing noise and enhancing text contrast. \n",
    "\n",
    "b. Applying Gaussian blur smooths the image, reducing small details and noise in order to improve the OCR accuracy."
   ]
  },
  {
   "cell_type": "code",
   "execution_count": null,
   "metadata": {},
   "outputs": [],
   "source": [
    "# Load and preprocess the image\n",
    "def preprocess_image(image_path):\n",
    "    image = Image.open(image_path)\n",
    "\n",
    "    # Convert the Image Color to Gray - Black & White\n",
    "    gray_image = ImageOps.grayscale(image)\n",
    "\n",
    "    # Applying Gaussian Blur on the Gray Image\n",
    "    blurred_image = gray_image.filter(ImageFilter.GaussianBlur(radius=2))\n",
    "\n",
    "    with io.BytesIO() as output:\n",
    "        blurred_image.save(output, format=\"PNG\")\n",
    "        return output.getvalue()"
   ]
  },
  {
   "cell_type": "markdown",
   "metadata": {},
   "source": [
    "### **<span style=\"color:purple;\">Performing OCR using Google Vision API</span>**\n",
    "Once the image is preprocess, utilize the Google Cloud Vision API to perform OCR. The Vision API extracts the text content from the image, converting the handwritten into machine-readable text. This API is chosen for its robust capabilities in text extraction and accuracy"
   ]
  },
  {
   "cell_type": "code",
   "execution_count": null,
   "metadata": {},
   "outputs": [],
   "source": [
    "# Reference from: https://www.youtube.com/watch?v=hkKKfEqZvn4\n",
    "def perform_ocr(image_data):\n",
    "    client = vision.ImageAnnotatorClient()\n",
    "    with io.open(image_data, 'rb') as image_file:\n",
    "        content = image_file.read()\n",
    "\n",
    "    image = vision.Image(content=content)\n",
    "\n",
    "    response = client.document_text_detection(image=image)\n",
    "\n",
    "    texts = response.text_annotations\n",
    "\n",
    "    if texts:\n",
    "        return texts[0].description\n",
    "    else:\n",
    "        return None"
   ]
  },
  {
   "cell_type": "markdown",
   "metadata": {},
   "source": [
    "### **<span style=\"color:purple;\">Text Parsing: Parse the OCR Results</span>**\n",
    "After obtaining the raw text from the OCR process, the next step is to parse this text to identify and extract relevant fields as the the output of the OCR Results text can be messy and unstructured. The parse_ocr_result function is meant to clean this text and extract specific details such as the aircraft model, registration number, and departure airport. Since I don’t have access to the actual API output, this code is left in a general form because the exact structure of the text is unknown. Regular expressions processing techniques will be employed to structure the extracted text into a well-define format"
   ]
  },
  {
   "cell_type": "code",
   "execution_count": null,
   "metadata": {},
   "outputs": [],
   "source": [
    "# Parse the OCR result\n",
    "def parse_ocr_result(ocr_result):\n",
    "    data = {}\n",
    "    lines = ocr_result.split('\\n')\n",
    "    for line in lines:\n",
    "    #     if 'Aircraft Model:' in line:\n",
    "    #         data['aircraft_model'] = XXX\n",
    "    #     elif 'Registration Number:' in line:\n",
    "    #         data['registration_number'] = XXX\n",
    "    #     elif 'Departure Airport:' in line:\n",
    "    #         data['departure_airport'] = XXX\n",
    "    #     elif 'Crew:' in line:\n",
    "    #         data['crew'] = XXX\n",
    "    #     elif 'Fuel:' in line:\n",
    "    #         data['fuel'] = XXX\n",
    "    #     elif 'Load:' in line:\n",
    "    #         data['load'] = XXX\n",
    "    # return data"
   ]
  },
  {
   "cell_type": "markdown",
   "metadata": {},
   "source": [
    "### **<span style=\"color:purple;\">Data Storage: PostgreSQL</span>**\n",
    "PostgreSQL and SQLite are two options\n",
    "\n",
    "🏅 **<span style=\"color:green;\">Choosing PostgreSQL:</span>**  SQLite is typically much faster than PostgreSQL, as it is much more lightweight and more straightforward in design. However, PostgreSQL is more reliable and can handle larger volumes of data, making it a better choice for this applications \n",
    "\n",
    "The structured data will then be stored in a PostgreSQL database. PostgreSQL is selected for its reliability, scalability, and support for complex queries.\n",
    "\n",
    "a. Ensures that the information/data is stored accurately and securely, maintaining consistency and reliability\n",
    "\n",
    "b. Enables efficient querying and reporting on aircraft details\n",
    "\n",
    "c. Can easily retrieve all flights of a specific aircraft model, analyze fuel consumption trends, or generate summaries based on departure airports"
   ]
  },
  {
   "cell_type": "code",
   "execution_count": null,
   "metadata": {},
   "outputs": [],
   "source": [
    "# Reference from: https://www.youtube.com/watch?v=M2NzvnfS-hI \n",
    "\n",
    "# Connecting to PostgreSQL Database - creatimg table and inserting values in it\n",
    "def insert_into_db(data):\n",
    "    conn = psycopg2.connect(\n",
    "        hostname=\"localhost\",\n",
    "        database=\"demo\",\n",
    "        username=\"postgres\",\n",
    "        pwd=\"admin\",\n",
    "        port_id= 5432\n",
    "    )\n",
    "    cur = conn.cursor()\n",
    "\n",
    "    cur.execute(\"DROP TABLE IF EXISTS aircraft_journey_summary\")\n",
    "\n",
    "    create_script = \"\"\"\n",
    "    CREATE TABLE IF NOT EXISTS aircraft_journey_summary (\n",
    "        id int PRIMARY KEY,\n",
    "        aircraft_model varchar(50),\n",
    "        registration_number varchar(50),\n",
    "        departure_airport varchar(50),\n",
    "        crew int,\n",
    "        fuel int,\n",
    "        load int) \"\"\"\n",
    "    \n",
    "    cur.execute(create_script)\n",
    "\n",
    "    insert_script = \"\"\"\n",
    "    INSERT INTO aircraft_journey_summary (aircraft_model, registration_number, departure_airport, crew, fuel, load)\n",
    "    VALUES (%s, %s, %s, %s, %s, %s)\n",
    "    \"\"\"\n",
    "    cur.execute(insert_script, (\n",
    "        data['aircraft_model'],\n",
    "        data['registration_number'],\n",
    "        data['departure_airport'],\n",
    "        data['crew'],\n",
    "        data['fuel'],\n",
    "        data['load']\n",
    "    ))\n",
    "\n",
    "    conn.commit()\n",
    "    cur.close()\n",
    "    conn.close()"
   ]
  },
  {
   "cell_type": "markdown",
   "metadata": {},
   "source": [
    "### **<span style=\"color:purple;\">Database Management with SQLAlchemy</span>**\n",
    "\n",
    "To manage interactions with the PostgreSQL database, SQLAlchemy will be used. SQLAlchemy provides a high-level API for connecting to the database and performing CRUD operations. Its ORM (Object-Relational Mapping) capabilities will allow developers to work with the database in a Pythonic and intuitive manner\n",
    "\n",
    "🏅 **<span style=\"color:green;\">Choosing SQLAlchemy:</span>** I chose SQLAlchemy over Django and web2py because it provides a powerful ORM system with advanced query capabilities and flexible database management options, making it ideal for complex and high-performance database tasks\n",
    "\n"
   ]
  },
  {
   "cell_type": "code",
   "execution_count": null,
   "metadata": {},
   "outputs": [],
   "source": [
    "# https://coderpad.io/blog/development/sqlalchemy-with-postgresql/\n",
    "\n",
    "# connecting to the postgresql database that was creating in the earlier code, data storage section\n",
    "engine = create_engine('postgresql')\n",
    "\n",
    "# Creating new session to interact with the data\n",
    "Session = sessionmaker(bind=engine)\n",
    "\n",
    "# Defining the schema - create a class that inherits from a base class\n",
    "Base = declarative_base()\n",
    "\n",
    "class AircraftModel(Base):\n",
    "    __tablename__ = 'aircraft_models'\n",
    "    id = Column(Integer, primary_key=True)\n",
    "    model_name = Column(String, unique=True)\n",
    "    registration_number = Column(String)\n",
    "    departure_airport = Column(String)\n",
    "    crew_count = Column(Integer)\n",
    "    fuel_amount = Column(Integer)\n",
    "    load_capacity = Column(Integer)\n",
    "\n",
    "# To actual creat the table aircraft_models above \n",
    "Base.metadata.create_all(engine)\n",
    "\n",
    "# Interacting with the data\n",
    "session = Session()"
   ]
  },
  {
   "cell_type": "markdown",
   "metadata": {},
   "source": [
    "### **<span style=\"color:purple;\">Main Function</span>**"
   ]
  },
  {
   "cell_type": "code",
   "execution_count": null,
   "metadata": {},
   "outputs": [],
   "source": [
    "def main(folder_path):\n",
    "    for filename in os.listdir(folder_path):\n",
    "        if filename.lower().endswith(('.png', '.jpg', '.jpeg')):\n",
    "            image_path = os.path.join(folder_path, filename)\n",
    "            try: \n",
    "                image_data = preprocess_image(image_path)\n",
    "                ocr_result = perform_ocr(image_data)\n",
    "                parsed_data = parse_ocr_result(ocr_result)\n",
    "                insert_into_db(parsed_data)\n",
    "            except Exception as e:\n",
    "                print(f\"Error processing {filename}: {e}\")\n",
    "\n",
    "# Execute Main Function\n",
    "if __name__ == \"__main__\":\n",
    "    main(\"image/folder\")"
   ]
  }
 ],
 "metadata": {
  "kernelspec": {
   "display_name": "Python 3",
   "language": "python",
   "name": "python3"
  },
  "language_info": {
   "codemirror_mode": {
    "name": "ipython",
    "version": 3
   },
   "file_extension": ".py",
   "mimetype": "text/x-python",
   "name": "python",
   "nbconvert_exporter": "python",
   "pygments_lexer": "ipython3",
   "version": "3.11.7"
  }
 },
 "nbformat": 4,
 "nbformat_minor": 2
}
